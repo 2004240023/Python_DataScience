{
 "cells": [
  {
   "cell_type": "code",
   "execution_count": 1,
   "id": "3aa12460",
   "metadata": {},
   "outputs": [],
   "source": [
    "import numpy as np"
   ]
  },
  {
   "cell_type": "code",
   "execution_count": 2,
   "id": "0d3aee84",
   "metadata": {},
   "outputs": [],
   "source": [
    "n_random = np.random.random(100)"
   ]
  },
  {
   "cell_type": "code",
   "execution_count": 3,
   "id": "06673a35",
   "metadata": {},
   "outputs": [
    {
     "data": {
      "text/plain": [
       "array([0.302116  , 0.63251056, 0.9200279 , 0.50316425, 0.14141898,\n",
       "       0.58770735, 0.21616178, 0.4391617 , 0.47089191, 0.32732282,\n",
       "       0.91433244, 0.60060158, 0.9861463 , 0.86741653, 0.78556763,\n",
       "       0.88434526, 0.10568165, 0.58418851, 0.85366032, 0.51598731,\n",
       "       0.09484131, 0.2699225 , 0.64083142, 0.72275222, 0.51465473,\n",
       "       0.43930691, 0.19222126, 0.61076307, 0.37897901, 0.74386099,\n",
       "       0.12023974, 0.88544138, 0.71485829, 0.25672217, 0.91794176,\n",
       "       0.94797114, 0.17371879, 0.87244631, 0.4011665 , 0.19342249,\n",
       "       0.78495092, 0.19375407, 0.15703799, 0.03953633, 0.83094869,\n",
       "       0.2131497 , 0.12857085, 0.18607023, 0.16923054, 0.60387242,\n",
       "       0.07609866, 0.55564442, 0.61792776, 0.91564726, 0.01490948,\n",
       "       0.22797424, 0.04157082, 0.68886103, 0.47680927, 0.62465715,\n",
       "       0.33888783, 0.53503484, 0.62417854, 0.68821397, 0.11826992,\n",
       "       0.47085515, 0.33293725, 0.7027875 , 0.88565212, 0.68675867,\n",
       "       0.54556721, 0.30404263, 0.81158989, 0.73261998, 0.9451652 ,\n",
       "       0.11802763, 0.79309052, 0.74231094, 0.59698758, 0.12024417,\n",
       "       0.85981278, 0.19048263, 0.84169079, 0.00274778, 0.65132949,\n",
       "       0.20144104, 0.32713701, 0.44230819, 0.30994636, 0.8032111 ,\n",
       "       0.13030957, 0.47746733, 0.45122301, 0.08583754, 0.29648036,\n",
       "       0.95284356, 0.02547147, 0.86708835, 0.82892144, 0.45827455])"
      ]
     },
     "execution_count": 3,
     "metadata": {},
     "output_type": "execute_result"
    }
   ],
   "source": [
    "n_random"
   ]
  },
  {
   "cell_type": "code",
   "execution_count": 4,
   "id": "caf93548",
   "metadata": {},
   "outputs": [],
   "source": [
    "import pandas as pd"
   ]
  },
  {
   "cell_type": "code",
   "execution_count": 7,
   "id": "2ebe3ce3",
   "metadata": {},
   "outputs": [],
   "source": [
    "data = pd.Series([n_random])"
   ]
  },
  {
   "cell_type": "code",
   "execution_count": 8,
   "id": "1ced93c7",
   "metadata": {},
   "outputs": [
    {
     "data": {
      "text/plain": [
       "0    [0.3021159987147829, 0.6325105635338237, 0.920...\n",
       "dtype: object"
      ]
     },
     "execution_count": 8,
     "metadata": {},
     "output_type": "execute_result"
    }
   ],
   "source": [
    "data"
   ]
  },
  {
   "cell_type": "code",
   "execution_count": 9,
   "id": "46da1e13",
   "metadata": {},
   "outputs": [
    {
     "data": {
      "text/plain": [
       "array([array([0.302116  , 0.63251056, 0.9200279 , 0.50316425, 0.14141898,\n",
       "              0.58770735, 0.21616178, 0.4391617 , 0.47089191, 0.32732282,\n",
       "              0.91433244, 0.60060158, 0.9861463 , 0.86741653, 0.78556763,\n",
       "              0.88434526, 0.10568165, 0.58418851, 0.85366032, 0.51598731,\n",
       "              0.09484131, 0.2699225 , 0.64083142, 0.72275222, 0.51465473,\n",
       "              0.43930691, 0.19222126, 0.61076307, 0.37897901, 0.74386099,\n",
       "              0.12023974, 0.88544138, 0.71485829, 0.25672217, 0.91794176,\n",
       "              0.94797114, 0.17371879, 0.87244631, 0.4011665 , 0.19342249,\n",
       "              0.78495092, 0.19375407, 0.15703799, 0.03953633, 0.83094869,\n",
       "              0.2131497 , 0.12857085, 0.18607023, 0.16923054, 0.60387242,\n",
       "              0.07609866, 0.55564442, 0.61792776, 0.91564726, 0.01490948,\n",
       "              0.22797424, 0.04157082, 0.68886103, 0.47680927, 0.62465715,\n",
       "              0.33888783, 0.53503484, 0.62417854, 0.68821397, 0.11826992,\n",
       "              0.47085515, 0.33293725, 0.7027875 , 0.88565212, 0.68675867,\n",
       "              0.54556721, 0.30404263, 0.81158989, 0.73261998, 0.9451652 ,\n",
       "              0.11802763, 0.79309052, 0.74231094, 0.59698758, 0.12024417,\n",
       "              0.85981278, 0.19048263, 0.84169079, 0.00274778, 0.65132949,\n",
       "              0.20144104, 0.32713701, 0.44230819, 0.30994636, 0.8032111 ,\n",
       "              0.13030957, 0.47746733, 0.45122301, 0.08583754, 0.29648036,\n",
       "              0.95284356, 0.02547147, 0.86708835, 0.82892144, 0.45827455])],\n",
       "      dtype=object)"
      ]
     },
     "execution_count": 9,
     "metadata": {},
     "output_type": "execute_result"
    }
   ],
   "source": [
    "data.values"
   ]
  },
  {
   "cell_type": "code",
   "execution_count": 10,
   "id": "37b0deb1",
   "metadata": {},
   "outputs": [],
   "source": [
    "df = pd.DataFrame({'column_1':n_random})"
   ]
  },
  {
   "cell_type": "code",
   "execution_count": 11,
   "id": "b1455df5",
   "metadata": {},
   "outputs": [
    {
     "data": {
      "text/html": [
       "<div>\n",
       "<style scoped>\n",
       "    .dataframe tbody tr th:only-of-type {\n",
       "        vertical-align: middle;\n",
       "    }\n",
       "\n",
       "    .dataframe tbody tr th {\n",
       "        vertical-align: top;\n",
       "    }\n",
       "\n",
       "    .dataframe thead th {\n",
       "        text-align: right;\n",
       "    }\n",
       "</style>\n",
       "<table border=\"1\" class=\"dataframe\">\n",
       "  <thead>\n",
       "    <tr style=\"text-align: right;\">\n",
       "      <th></th>\n",
       "      <th>column_1</th>\n",
       "    </tr>\n",
       "  </thead>\n",
       "  <tbody>\n",
       "    <tr>\n",
       "      <th>0</th>\n",
       "      <td>0.302116</td>\n",
       "    </tr>\n",
       "    <tr>\n",
       "      <th>1</th>\n",
       "      <td>0.632511</td>\n",
       "    </tr>\n",
       "    <tr>\n",
       "      <th>2</th>\n",
       "      <td>0.920028</td>\n",
       "    </tr>\n",
       "    <tr>\n",
       "      <th>3</th>\n",
       "      <td>0.503164</td>\n",
       "    </tr>\n",
       "    <tr>\n",
       "      <th>4</th>\n",
       "      <td>0.141419</td>\n",
       "    </tr>\n",
       "    <tr>\n",
       "      <th>...</th>\n",
       "      <td>...</td>\n",
       "    </tr>\n",
       "    <tr>\n",
       "      <th>95</th>\n",
       "      <td>0.952844</td>\n",
       "    </tr>\n",
       "    <tr>\n",
       "      <th>96</th>\n",
       "      <td>0.025471</td>\n",
       "    </tr>\n",
       "    <tr>\n",
       "      <th>97</th>\n",
       "      <td>0.867088</td>\n",
       "    </tr>\n",
       "    <tr>\n",
       "      <th>98</th>\n",
       "      <td>0.828921</td>\n",
       "    </tr>\n",
       "    <tr>\n",
       "      <th>99</th>\n",
       "      <td>0.458275</td>\n",
       "    </tr>\n",
       "  </tbody>\n",
       "</table>\n",
       "<p>100 rows × 1 columns</p>\n",
       "</div>"
      ],
      "text/plain": [
       "    column_1\n",
       "0   0.302116\n",
       "1   0.632511\n",
       "2   0.920028\n",
       "3   0.503164\n",
       "4   0.141419\n",
       "..       ...\n",
       "95  0.952844\n",
       "96  0.025471\n",
       "97  0.867088\n",
       "98  0.828921\n",
       "99  0.458275\n",
       "\n",
       "[100 rows x 1 columns]"
      ]
     },
     "execution_count": 11,
     "metadata": {},
     "output_type": "execute_result"
    }
   ],
   "source": [
    "df"
   ]
  },
  {
   "cell_type": "code",
   "execution_count": 17,
   "id": "1fcb9363",
   "metadata": {},
   "outputs": [],
   "source": [
    "df_2 = df.describe()#数値計算の37の6をしている途中"
   ]
  },
  {
   "cell_type": "code",
   "execution_count": 18,
   "id": "20a43a69",
   "metadata": {},
   "outputs": [
    {
     "data": {
      "text/html": [
       "<div>\n",
       "<style scoped>\n",
       "    .dataframe tbody tr th:only-of-type {\n",
       "        vertical-align: middle;\n",
       "    }\n",
       "\n",
       "    .dataframe tbody tr th {\n",
       "        vertical-align: top;\n",
       "    }\n",
       "\n",
       "    .dataframe thead th {\n",
       "        text-align: right;\n",
       "    }\n",
       "</style>\n",
       "<table border=\"1\" class=\"dataframe\">\n",
       "  <thead>\n",
       "    <tr style=\"text-align: right;\">\n",
       "      <th></th>\n",
       "      <th>column_1</th>\n",
       "    </tr>\n",
       "  </thead>\n",
       "  <tbody>\n",
       "    <tr>\n",
       "      <th>count</th>\n",
       "      <td>100.000000</td>\n",
       "    </tr>\n",
       "    <tr>\n",
       "      <th>mean</th>\n",
       "      <td>0.495749</td>\n",
       "    </tr>\n",
       "    <tr>\n",
       "      <th>std</th>\n",
       "      <td>0.290278</td>\n",
       "    </tr>\n",
       "    <tr>\n",
       "      <th>min</th>\n",
       "      <td>0.002748</td>\n",
       "    </tr>\n",
       "    <tr>\n",
       "      <th>25%</th>\n",
       "      <td>0.210223</td>\n",
       "    </tr>\n",
       "    <tr>\n",
       "      <th>50%</th>\n",
       "      <td>0.508909</td>\n",
       "    </tr>\n",
       "    <tr>\n",
       "      <th>75%</th>\n",
       "      <td>0.742698</td>\n",
       "    </tr>\n",
       "    <tr>\n",
       "      <th>max</th>\n",
       "      <td>0.986146</td>\n",
       "    </tr>\n",
       "  </tbody>\n",
       "</table>\n",
       "</div>"
      ],
      "text/plain": [
       "         column_1\n",
       "count  100.000000\n",
       "mean     0.495749\n",
       "std      0.290278\n",
       "min      0.002748\n",
       "25%      0.210223\n",
       "50%      0.508909\n",
       "75%      0.742698\n",
       "max      0.986146"
      ]
     },
     "execution_count": 18,
     "metadata": {},
     "output_type": "execute_result"
    }
   ],
   "source": [
    "df_2"
   ]
  },
  {
   "cell_type": "code",
   "execution_count": 19,
   "id": "f61ea439",
   "metadata": {},
   "outputs": [],
   "source": [
    "df_2.to_csv('df_data.csv')"
   ]
  },
  {
   "cell_type": "code",
   "execution_count": 20,
   "id": "e0c01415",
   "metadata": {},
   "outputs": [
    {
     "data": {
      "text/html": [
       "<div>\n",
       "<style scoped>\n",
       "    .dataframe tbody tr th:only-of-type {\n",
       "        vertical-align: middle;\n",
       "    }\n",
       "\n",
       "    .dataframe tbody tr th {\n",
       "        vertical-align: top;\n",
       "    }\n",
       "\n",
       "    .dataframe thead th {\n",
       "        text-align: right;\n",
       "    }\n",
       "</style>\n",
       "<table border=\"1\" class=\"dataframe\">\n",
       "  <thead>\n",
       "    <tr style=\"text-align: right;\">\n",
       "      <th></th>\n",
       "      <th>column_1</th>\n",
       "    </tr>\n",
       "  </thead>\n",
       "  <tbody>\n",
       "    <tr>\n",
       "      <th>count</th>\n",
       "      <td>100.000000</td>\n",
       "    </tr>\n",
       "    <tr>\n",
       "      <th>mean</th>\n",
       "      <td>0.495749</td>\n",
       "    </tr>\n",
       "    <tr>\n",
       "      <th>std</th>\n",
       "      <td>0.290278</td>\n",
       "    </tr>\n",
       "    <tr>\n",
       "      <th>min</th>\n",
       "      <td>0.002748</td>\n",
       "    </tr>\n",
       "    <tr>\n",
       "      <th>25%</th>\n",
       "      <td>0.210223</td>\n",
       "    </tr>\n",
       "    <tr>\n",
       "      <th>50%</th>\n",
       "      <td>0.508909</td>\n",
       "    </tr>\n",
       "    <tr>\n",
       "      <th>75%</th>\n",
       "      <td>0.742698</td>\n",
       "    </tr>\n",
       "    <tr>\n",
       "      <th>max</th>\n",
       "      <td>0.986146</td>\n",
       "    </tr>\n",
       "  </tbody>\n",
       "</table>\n",
       "</div>"
      ],
      "text/plain": [
       "         column_1\n",
       "count  100.000000\n",
       "mean     0.495749\n",
       "std      0.290278\n",
       "min      0.002748\n",
       "25%      0.210223\n",
       "50%      0.508909\n",
       "75%      0.742698\n",
       "max      0.986146"
      ]
     },
     "execution_count": 20,
     "metadata": {},
     "output_type": "execute_result"
    }
   ],
   "source": [
    "df_2"
   ]
  },
  {
   "cell_type": "code",
   "execution_count": null,
   "id": "89e28f37",
   "metadata": {},
   "outputs": [],
   "source": []
  }
 ],
 "metadata": {
  "kernelspec": {
   "display_name": "Python 3 (ipykernel)",
   "language": "python",
   "name": "python3"
  },
  "language_info": {
   "codemirror_mode": {
    "name": "ipython",
    "version": 3
   },
   "file_extension": ".py",
   "mimetype": "text/x-python",
   "name": "python",
   "nbconvert_exporter": "python",
   "pygments_lexer": "ipython3",
   "version": "3.8.5"
  }
 },
 "nbformat": 4,
 "nbformat_minor": 5
}
