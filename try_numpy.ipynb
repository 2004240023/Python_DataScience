{
 "cells": [
  {
   "cell_type": "code",
   "execution_count": 18,
   "id": "6056bea7",
   "metadata": {},
   "outputs": [],
   "source": [
    "a = [10, 11, 12, 13, 14, 15]"
   ]
  },
  {
   "cell_type": "code",
   "execution_count": 19,
   "id": "04b16f50",
   "metadata": {},
   "outputs": [],
   "source": [
    "import numpy as np"
   ]
  },
  {
   "cell_type": "code",
   "execution_count": 20,
   "id": "3847f423",
   "metadata": {},
   "outputs": [],
   "source": [
    "n_a = np.array(a) "
   ]
  },
  {
   "cell_type": "code",
   "execution_count": 21,
   "id": "0b8c10b7",
   "metadata": {},
   "outputs": [
    {
     "data": {
      "text/plain": [
       "array([10, 11, 12, 13, 14, 15])"
      ]
     },
     "execution_count": 21,
     "metadata": {},
     "output_type": "execute_result"
    }
   ],
   "source": [
    "n_a"
   ]
  },
  {
   "cell_type": "code",
   "execution_count": 22,
   "id": "6f97b224",
   "metadata": {},
   "outputs": [
    {
     "data": {
      "text/plain": [
       "10"
      ]
     },
     "execution_count": 22,
     "metadata": {},
     "output_type": "execute_result"
    }
   ],
   "source": [
    "n_a[0]"
   ]
  },
  {
   "cell_type": "code",
   "execution_count": 23,
   "id": "18c46f8d",
   "metadata": {},
   "outputs": [
    {
     "data": {
      "text/plain": [
       "11"
      ]
     },
     "execution_count": 23,
     "metadata": {},
     "output_type": "execute_result"
    }
   ],
   "source": [
    "n_a[1]"
   ]
  },
  {
   "cell_type": "code",
   "execution_count": 26,
   "id": "2ab64cbb",
   "metadata": {},
   "outputs": [],
   "source": [
    "last_index = len(n_a) - 1"
   ]
  },
  {
   "cell_type": "code",
   "execution_count": 27,
   "id": "6c974469",
   "metadata": {},
   "outputs": [
    {
     "data": {
      "text/plain": [
       "15"
      ]
     },
     "execution_count": 27,
     "metadata": {},
     "output_type": "execute_result"
    }
   ],
   "source": [
    "n_a[last_index]"
   ]
  },
  {
   "cell_type": "code",
   "execution_count": 28,
   "id": "7ff34f9b",
   "metadata": {},
   "outputs": [
    {
     "data": {
      "text/plain": [
       "15"
      ]
     },
     "execution_count": 28,
     "metadata": {},
     "output_type": "execute_result"
    }
   ],
   "source": [
    "ｎ_a[-1]"
   ]
  },
  {
   "cell_type": "code",
   "execution_count": 29,
   "id": "c5742610",
   "metadata": {},
   "outputs": [
    {
     "data": {
      "text/plain": [
       "14"
      ]
     },
     "execution_count": 29,
     "metadata": {},
     "output_type": "execute_result"
    }
   ],
   "source": [
    "ｎ_a[-2]"
   ]
  },
  {
   "cell_type": "code",
   "execution_count": 32,
   "id": "d61cf3db",
   "metadata": {},
   "outputs": [
    {
     "data": {
      "text/plain": [
       "array([10, 11, 12])"
      ]
     },
     "execution_count": 32,
     "metadata": {},
     "output_type": "execute_result"
    }
   ],
   "source": [
    "n_a[0:3]"
   ]
  },
  {
   "cell_type": "code",
   "execution_count": 33,
   "id": "bf6cbc64",
   "metadata": {},
   "outputs": [
    {
     "data": {
      "text/plain": [
       "array([10, 11, 12])"
      ]
     },
     "execution_count": 33,
     "metadata": {},
     "output_type": "execute_result"
    }
   ],
   "source": [
    "n_a[:3]"
   ]
  },
  {
   "cell_type": "code",
   "execution_count": 34,
   "id": "fbfd673e",
   "metadata": {},
   "outputs": [
    {
     "data": {
      "text/plain": [
       "array([13, 14, 15])"
      ]
     },
     "execution_count": 34,
     "metadata": {},
     "output_type": "execute_result"
    }
   ],
   "source": [
    "n_a[3:6]"
   ]
  },
  {
   "cell_type": "code",
   "execution_count": 35,
   "id": "4e5bafa5",
   "metadata": {},
   "outputs": [
    {
     "data": {
      "text/plain": [
       "array([13, 14, 15])"
      ]
     },
     "execution_count": 35,
     "metadata": {},
     "output_type": "execute_result"
    }
   ],
   "source": [
    "n_a[3:]"
   ]
  },
  {
   "cell_type": "code",
   "execution_count": 36,
   "id": "d2443f78",
   "metadata": {},
   "outputs": [
    {
     "data": {
      "text/plain": [
       "array([12, 13])"
      ]
     },
     "execution_count": 36,
     "metadata": {},
     "output_type": "execute_result"
    }
   ],
   "source": [
    "n_a[2:4]"
   ]
  },
  {
   "cell_type": "code",
   "execution_count": 37,
   "id": "0530024a",
   "metadata": {},
   "outputs": [
    {
     "data": {
      "text/plain": [
       "array([11, 13, 15])"
      ]
     },
     "execution_count": 37,
     "metadata": {},
     "output_type": "execute_result"
    }
   ],
   "source": [
    "n_a[1::2] "
   ]
  },
  {
   "cell_type": "code",
   "execution_count": 38,
   "id": "43956f03",
   "metadata": {},
   "outputs": [],
   "source": [
    "n_b = np.array([100, 101, 102, 103, 104, 105])"
   ]
  },
  {
   "cell_type": "code",
   "execution_count": 40,
   "id": "93a1a2b6",
   "metadata": {},
   "outputs": [],
   "source": [
    "n_c = np.concatenate([n_a, n_b])"
   ]
  },
  {
   "cell_type": "code",
   "execution_count": 41,
   "id": "edb6dda1",
   "metadata": {},
   "outputs": [
    {
     "data": {
      "text/plain": [
       "690"
      ]
     },
     "execution_count": 41,
     "metadata": {},
     "output_type": "execute_result"
    }
   ],
   "source": [
    "np.sum(n_c)"
   ]
  },
  {
   "cell_type": "code",
   "execution_count": 42,
   "id": "9b41bf44",
   "metadata": {},
   "outputs": [
    {
     "data": {
      "text/plain": [
       "105"
      ]
     },
     "execution_count": 42,
     "metadata": {},
     "output_type": "execute_result"
    }
   ],
   "source": [
    "np.max(n_c)"
   ]
  },
  {
   "cell_type": "code",
   "execution_count": 43,
   "id": "de449133",
   "metadata": {},
   "outputs": [
    {
     "data": {
      "text/plain": [
       "10"
      ]
     },
     "execution_count": 43,
     "metadata": {},
     "output_type": "execute_result"
    }
   ],
   "source": [
    "np.min(n_c)"
   ]
  },
  {
   "cell_type": "code",
   "execution_count": 44,
   "id": "2dfb9b8c",
   "metadata": {},
   "outputs": [
    {
     "data": {
      "text/plain": [
       "57.5"
      ]
     },
     "execution_count": 44,
     "metadata": {},
     "output_type": "execute_result"
    }
   ],
   "source": [
    "np.average(n_c)"
   ]
  },
  {
   "cell_type": "code",
   "execution_count": 54,
   "id": "7b7f72de",
   "metadata": {},
   "outputs": [],
   "source": [
    "n_random = np.random.random(10)"
   ]
  },
  {
   "cell_type": "code",
   "execution_count": 49,
   "id": "f70939b8",
   "metadata": {},
   "outputs": [
    {
     "data": {
      "text/plain": [
       "array([0.14365423, 0.99358905, 0.90027284, 0.24614619, 0.02860016,\n",
       "       0.50446365, 0.59355054, 0.15096908, 0.40274666, 0.62984084])"
      ]
     },
     "execution_count": 49,
     "metadata": {},
     "output_type": "execute_result"
    }
   ],
   "source": [
    "n_random "
   ]
  },
  {
   "cell_type": "code",
   "execution_count": 55,
   "id": "270d4b46",
   "metadata": {},
   "outputs": [
    {
     "data": {
      "text/plain": [
       "0.9308212967785259"
      ]
     },
     "execution_count": 55,
     "metadata": {},
     "output_type": "execute_result"
    }
   ],
   "source": [
    "np.max(n_random)"
   ]
  },
  {
   "cell_type": "code",
   "execution_count": 56,
   "id": "b02c6eec",
   "metadata": {},
   "outputs": [
    {
     "data": {
      "text/plain": [
       "0.22031499877476113"
      ]
     },
     "execution_count": 56,
     "metadata": {},
     "output_type": "execute_result"
    }
   ],
   "source": [
    "np.min(n_random)"
   ]
  },
  {
   "cell_type": "code",
   "execution_count": 57,
   "id": "a154e62a",
   "metadata": {},
   "outputs": [
    {
     "data": {
      "text/plain": [
       "array([0.220315  , 0.34547944, 0.39625986, 0.40099943, 0.45224149,\n",
       "       0.48498313, 0.54835575, 0.74262219, 0.77328456, 0.9308213 ])"
      ]
     },
     "execution_count": 57,
     "metadata": {},
     "output_type": "execute_result"
    }
   ],
   "source": [
    "np.sort(n_random)"
   ]
  },
  {
   "cell_type": "code",
   "execution_count": 58,
   "id": "5b520138",
   "metadata": {},
   "outputs": [
    {
     "data": {
      "text/plain": [
       "array([7, 3, 4, 6, 0, 9, 8, 2, 1, 5], dtype=int64)"
      ]
     },
     "execution_count": 58,
     "metadata": {},
     "output_type": "execute_result"
    }
   ],
   "source": [
    "np.argsort(n_random)"
   ]
  },
  {
   "cell_type": "code",
   "execution_count": 59,
   "id": "caee7047",
   "metadata": {},
   "outputs": [
    {
     "data": {
      "text/plain": [
       "array([0.9308213 , 0.77328456, 0.74262219, 0.54835575, 0.48498313,\n",
       "       0.45224149, 0.40099943, 0.39625986, 0.34547944, 0.220315  ])"
      ]
     },
     "execution_count": 59,
     "metadata": {},
     "output_type": "execute_result"
    }
   ],
   "source": [
    "np.sort(n_random)[::-1]"
   ]
  },
  {
   "cell_type": "code",
   "execution_count": null,
   "id": "8e8d1717",
   "metadata": {},
   "outputs": [],
   "source": []
  }
 ],
 "metadata": {
  "kernelspec": {
   "display_name": "Python 3 (ipykernel)",
   "language": "python",
   "name": "python3"
  },
  "language_info": {
   "codemirror_mode": {
    "name": "ipython",
    "version": 3
   },
   "file_extension": ".py",
   "mimetype": "text/x-python",
   "name": "python",
   "nbconvert_exporter": "python",
   "pygments_lexer": "ipython3",
   "version": "3.8.5"
  }
 },
 "nbformat": 4,
 "nbformat_minor": 5
}
